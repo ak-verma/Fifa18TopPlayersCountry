{
 "cells": [
  {
   "cell_type": "code",
   "execution_count": 15,
   "metadata": {
    "collapsed": true
   },
   "outputs": [],
   "source": [
    "import pandas as pd\n",
    "import numpy as np"
   ]
  },
  {
   "cell_type": "code",
   "execution_count": 16,
   "metadata": {
    "collapsed": true
   },
   "outputs": [],
   "source": [
    "x=pd.read_csv(\"F:/Study/data/PlayerPersonalData.csv\",header=0,index_col=None)"
   ]
  },
  {
   "cell_type": "code",
   "execution_count": 17,
   "metadata": {
    "collapsed": false
   },
   "outputs": [
    {
     "data": {
      "text/html": [
       "<div>\n",
       "<table border=\"1\" class=\"dataframe\">\n",
       "  <thead>\n",
       "    <tr style=\"text-align: right;\">\n",
       "      <th></th>\n",
       "      <th>Unnamed: 0</th>\n",
       "      <th>Unnamed: 0.1</th>\n",
       "      <th>ID</th>\n",
       "      <th>Name</th>\n",
       "      <th>Age</th>\n",
       "      <th>Photo</th>\n",
       "      <th>Nationality</th>\n",
       "      <th>Flag</th>\n",
       "      <th>Overall</th>\n",
       "      <th>Potential</th>\n",
       "      <th>Club</th>\n",
       "      <th>Club Logo</th>\n",
       "      <th>Value</th>\n",
       "      <th>Wage</th>\n",
       "      <th>Special</th>\n",
       "    </tr>\n",
       "  </thead>\n",
       "  <tbody>\n",
       "    <tr>\n",
       "      <th>0</th>\n",
       "      <td>0</td>\n",
       "      <td>0</td>\n",
       "      <td>20801</td>\n",
       "      <td>Cristiano Ronaldo</td>\n",
       "      <td>32</td>\n",
       "      <td>https://cdn.sofifa.org/48/18/players/20801.png</td>\n",
       "      <td>Portugal</td>\n",
       "      <td>https://cdn.sofifa.org/flags/38.png</td>\n",
       "      <td>94</td>\n",
       "      <td>94</td>\n",
       "      <td>Real Madrid CF</td>\n",
       "      <td>https://cdn.sofifa.org/24/18/teams/243.png</td>\n",
       "      <td>095.5M</td>\n",
       "      <td>0565K</td>\n",
       "      <td>2228</td>\n",
       "    </tr>\n",
       "    <tr>\n",
       "      <th>1</th>\n",
       "      <td>1</td>\n",
       "      <td>1</td>\n",
       "      <td>158023</td>\n",
       "      <td>L. Messi</td>\n",
       "      <td>30</td>\n",
       "      <td>https://cdn.sofifa.org/48/18/players/158023.png</td>\n",
       "      <td>Argentina</td>\n",
       "      <td>https://cdn.sofifa.org/flags/52.png</td>\n",
       "      <td>93</td>\n",
       "      <td>93</td>\n",
       "      <td>FC Barcelona</td>\n",
       "      <td>https://cdn.sofifa.org/24/18/teams/241.png</td>\n",
       "      <td>0105M</td>\n",
       "      <td>0565K</td>\n",
       "      <td>2154</td>\n",
       "    </tr>\n",
       "    <tr>\n",
       "      <th>2</th>\n",
       "      <td>2</td>\n",
       "      <td>2</td>\n",
       "      <td>190871</td>\n",
       "      <td>Neymar</td>\n",
       "      <td>25</td>\n",
       "      <td>https://cdn.sofifa.org/48/18/players/190871.png</td>\n",
       "      <td>Brazil</td>\n",
       "      <td>https://cdn.sofifa.org/flags/54.png</td>\n",
       "      <td>92</td>\n",
       "      <td>94</td>\n",
       "      <td>Paris Saint-Germain</td>\n",
       "      <td>https://cdn.sofifa.org/24/18/teams/73.png</td>\n",
       "      <td>0123M</td>\n",
       "      <td>0280K</td>\n",
       "      <td>2100</td>\n",
       "    </tr>\n",
       "    <tr>\n",
       "      <th>3</th>\n",
       "      <td>3</td>\n",
       "      <td>3</td>\n",
       "      <td>176580</td>\n",
       "      <td>L. Suárez</td>\n",
       "      <td>30</td>\n",
       "      <td>https://cdn.sofifa.org/48/18/players/176580.png</td>\n",
       "      <td>Uruguay</td>\n",
       "      <td>https://cdn.sofifa.org/flags/60.png</td>\n",
       "      <td>92</td>\n",
       "      <td>92</td>\n",
       "      <td>FC Barcelona</td>\n",
       "      <td>https://cdn.sofifa.org/24/18/teams/241.png</td>\n",
       "      <td>097M</td>\n",
       "      <td>0510K</td>\n",
       "      <td>2291</td>\n",
       "    </tr>\n",
       "    <tr>\n",
       "      <th>4</th>\n",
       "      <td>4</td>\n",
       "      <td>4</td>\n",
       "      <td>167495</td>\n",
       "      <td>M. Neuer</td>\n",
       "      <td>31</td>\n",
       "      <td>https://cdn.sofifa.org/48/18/players/167495.png</td>\n",
       "      <td>Germany</td>\n",
       "      <td>https://cdn.sofifa.org/flags/21.png</td>\n",
       "      <td>92</td>\n",
       "      <td>92</td>\n",
       "      <td>FC Bayern Munich</td>\n",
       "      <td>https://cdn.sofifa.org/24/18/teams/21.png</td>\n",
       "      <td>061M</td>\n",
       "      <td>0230K</td>\n",
       "      <td>1493</td>\n",
       "    </tr>\n",
       "  </tbody>\n",
       "</table>\n",
       "</div>"
      ],
      "text/plain": [
       "   Unnamed: 0  Unnamed: 0.1      ID               Name  Age  \\\n",
       "0           0             0   20801  Cristiano Ronaldo   32   \n",
       "1           1             1  158023           L. Messi   30   \n",
       "2           2             2  190871             Neymar   25   \n",
       "3           3             3  176580          L. Suárez   30   \n",
       "4           4             4  167495           M. Neuer   31   \n",
       "\n",
       "                                             Photo Nationality  \\\n",
       "0   https://cdn.sofifa.org/48/18/players/20801.png    Portugal   \n",
       "1  https://cdn.sofifa.org/48/18/players/158023.png   Argentina   \n",
       "2  https://cdn.sofifa.org/48/18/players/190871.png      Brazil   \n",
       "3  https://cdn.sofifa.org/48/18/players/176580.png     Uruguay   \n",
       "4  https://cdn.sofifa.org/48/18/players/167495.png     Germany   \n",
       "\n",
       "                                  Flag  Overall  Potential  \\\n",
       "0  https://cdn.sofifa.org/flags/38.png       94         94   \n",
       "1  https://cdn.sofifa.org/flags/52.png       93         93   \n",
       "2  https://cdn.sofifa.org/flags/54.png       92         94   \n",
       "3  https://cdn.sofifa.org/flags/60.png       92         92   \n",
       "4  https://cdn.sofifa.org/flags/21.png       92         92   \n",
       "\n",
       "                  Club                                   Club Logo   Value  \\\n",
       "0       Real Madrid CF  https://cdn.sofifa.org/24/18/teams/243.png  095.5M   \n",
       "1         FC Barcelona  https://cdn.sofifa.org/24/18/teams/241.png   0105M   \n",
       "2  Paris Saint-Germain   https://cdn.sofifa.org/24/18/teams/73.png   0123M   \n",
       "3         FC Barcelona  https://cdn.sofifa.org/24/18/teams/241.png    097M   \n",
       "4     FC Bayern Munich   https://cdn.sofifa.org/24/18/teams/21.png    061M   \n",
       "\n",
       "    Wage  Special  \n",
       "0  0565K     2228  \n",
       "1  0565K     2154  \n",
       "2  0280K     2100  \n",
       "3  0510K     2291  \n",
       "4  0230K     1493  "
      ]
     },
     "execution_count": 17,
     "metadata": {},
     "output_type": "execute_result"
    }
   ],
   "source": [
    "x.head()"
   ]
  },
  {
   "cell_type": "code",
   "execution_count": 18,
   "metadata": {
    "collapsed": true
   },
   "outputs": [],
   "source": [
    "list=['Unnamed: 0',\"Unnamed: 0.1\",'ID',\"Photo\",\"Flag\",\"Club Logo\"]\n",
    "x=x.drop(list,axis=1)"
   ]
  },
  {
   "cell_type": "code",
   "execution_count": 19,
   "metadata": {
    "collapsed": false
   },
   "outputs": [
    {
     "data": {
      "text/html": [
       "<div>\n",
       "<table border=\"1\" class=\"dataframe\">\n",
       "  <thead>\n",
       "    <tr style=\"text-align: right;\">\n",
       "      <th></th>\n",
       "      <th>Name</th>\n",
       "      <th>Age</th>\n",
       "      <th>Nationality</th>\n",
       "      <th>Overall</th>\n",
       "      <th>Potential</th>\n",
       "      <th>Club</th>\n",
       "      <th>Value</th>\n",
       "      <th>Wage</th>\n",
       "      <th>Special</th>\n",
       "    </tr>\n",
       "  </thead>\n",
       "  <tbody>\n",
       "    <tr>\n",
       "      <th>0</th>\n",
       "      <td>Cristiano Ronaldo</td>\n",
       "      <td>32</td>\n",
       "      <td>Portugal</td>\n",
       "      <td>94</td>\n",
       "      <td>94</td>\n",
       "      <td>Real Madrid CF</td>\n",
       "      <td>095.5M</td>\n",
       "      <td>0565K</td>\n",
       "      <td>2228</td>\n",
       "    </tr>\n",
       "    <tr>\n",
       "      <th>1</th>\n",
       "      <td>L. Messi</td>\n",
       "      <td>30</td>\n",
       "      <td>Argentina</td>\n",
       "      <td>93</td>\n",
       "      <td>93</td>\n",
       "      <td>FC Barcelona</td>\n",
       "      <td>0105M</td>\n",
       "      <td>0565K</td>\n",
       "      <td>2154</td>\n",
       "    </tr>\n",
       "    <tr>\n",
       "      <th>2</th>\n",
       "      <td>Neymar</td>\n",
       "      <td>25</td>\n",
       "      <td>Brazil</td>\n",
       "      <td>92</td>\n",
       "      <td>94</td>\n",
       "      <td>Paris Saint-Germain</td>\n",
       "      <td>0123M</td>\n",
       "      <td>0280K</td>\n",
       "      <td>2100</td>\n",
       "    </tr>\n",
       "    <tr>\n",
       "      <th>3</th>\n",
       "      <td>L. Suárez</td>\n",
       "      <td>30</td>\n",
       "      <td>Uruguay</td>\n",
       "      <td>92</td>\n",
       "      <td>92</td>\n",
       "      <td>FC Barcelona</td>\n",
       "      <td>097M</td>\n",
       "      <td>0510K</td>\n",
       "      <td>2291</td>\n",
       "    </tr>\n",
       "    <tr>\n",
       "      <th>4</th>\n",
       "      <td>M. Neuer</td>\n",
       "      <td>31</td>\n",
       "      <td>Germany</td>\n",
       "      <td>92</td>\n",
       "      <td>92</td>\n",
       "      <td>FC Bayern Munich</td>\n",
       "      <td>061M</td>\n",
       "      <td>0230K</td>\n",
       "      <td>1493</td>\n",
       "    </tr>\n",
       "  </tbody>\n",
       "</table>\n",
       "</div>"
      ],
      "text/plain": [
       "                Name  Age Nationality  Overall  Potential  \\\n",
       "0  Cristiano Ronaldo   32    Portugal       94         94   \n",
       "1           L. Messi   30   Argentina       93         93   \n",
       "2             Neymar   25      Brazil       92         94   \n",
       "3          L. Suárez   30     Uruguay       92         92   \n",
       "4           M. Neuer   31     Germany       92         92   \n",
       "\n",
       "                  Club   Value   Wage  Special  \n",
       "0       Real Madrid CF  095.5M  0565K     2228  \n",
       "1         FC Barcelona   0105M  0565K     2154  \n",
       "2  Paris Saint-Germain   0123M  0280K     2100  \n",
       "3         FC Barcelona    097M  0510K     2291  \n",
       "4     FC Bayern Munich    061M  0230K     1493  "
      ]
     },
     "execution_count": 19,
     "metadata": {},
     "output_type": "execute_result"
    }
   ],
   "source": [
    "x.head()"
   ]
  },
  {
   "cell_type": "code",
   "execution_count": 20,
   "metadata": {
    "collapsed": true
   },
   "outputs": [],
   "source": [
    "x=x.drop(['Special'],axis=1)"
   ]
  },
  {
   "cell_type": "code",
   "execution_count": 21,
   "metadata": {
    "collapsed": false
   },
   "outputs": [
    {
     "data": {
      "text/html": [
       "<div>\n",
       "<table border=\"1\" class=\"dataframe\">\n",
       "  <thead>\n",
       "    <tr style=\"text-align: right;\">\n",
       "      <th></th>\n",
       "      <th>Name</th>\n",
       "      <th>Age</th>\n",
       "      <th>Nationality</th>\n",
       "      <th>Overall</th>\n",
       "      <th>Potential</th>\n",
       "      <th>Club</th>\n",
       "      <th>Value</th>\n",
       "      <th>Wage</th>\n",
       "    </tr>\n",
       "  </thead>\n",
       "  <tbody>\n",
       "    <tr>\n",
       "      <th>0</th>\n",
       "      <td>Cristiano Ronaldo</td>\n",
       "      <td>32</td>\n",
       "      <td>Portugal</td>\n",
       "      <td>94</td>\n",
       "      <td>94</td>\n",
       "      <td>Real Madrid CF</td>\n",
       "      <td>095.5M</td>\n",
       "      <td>0565K</td>\n",
       "    </tr>\n",
       "    <tr>\n",
       "      <th>1</th>\n",
       "      <td>L. Messi</td>\n",
       "      <td>30</td>\n",
       "      <td>Argentina</td>\n",
       "      <td>93</td>\n",
       "      <td>93</td>\n",
       "      <td>FC Barcelona</td>\n",
       "      <td>0105M</td>\n",
       "      <td>0565K</td>\n",
       "    </tr>\n",
       "    <tr>\n",
       "      <th>2</th>\n",
       "      <td>Neymar</td>\n",
       "      <td>25</td>\n",
       "      <td>Brazil</td>\n",
       "      <td>92</td>\n",
       "      <td>94</td>\n",
       "      <td>Paris Saint-Germain</td>\n",
       "      <td>0123M</td>\n",
       "      <td>0280K</td>\n",
       "    </tr>\n",
       "    <tr>\n",
       "      <th>3</th>\n",
       "      <td>L. Suárez</td>\n",
       "      <td>30</td>\n",
       "      <td>Uruguay</td>\n",
       "      <td>92</td>\n",
       "      <td>92</td>\n",
       "      <td>FC Barcelona</td>\n",
       "      <td>097M</td>\n",
       "      <td>0510K</td>\n",
       "    </tr>\n",
       "    <tr>\n",
       "      <th>4</th>\n",
       "      <td>M. Neuer</td>\n",
       "      <td>31</td>\n",
       "      <td>Germany</td>\n",
       "      <td>92</td>\n",
       "      <td>92</td>\n",
       "      <td>FC Bayern Munich</td>\n",
       "      <td>061M</td>\n",
       "      <td>0230K</td>\n",
       "    </tr>\n",
       "  </tbody>\n",
       "</table>\n",
       "</div>"
      ],
      "text/plain": [
       "                Name  Age Nationality  Overall  Potential  \\\n",
       "0  Cristiano Ronaldo   32    Portugal       94         94   \n",
       "1           L. Messi   30   Argentina       93         93   \n",
       "2             Neymar   25      Brazil       92         94   \n",
       "3          L. Suárez   30     Uruguay       92         92   \n",
       "4           M. Neuer   31     Germany       92         92   \n",
       "\n",
       "                  Club   Value   Wage  \n",
       "0       Real Madrid CF  095.5M  0565K  \n",
       "1         FC Barcelona   0105M  0565K  \n",
       "2  Paris Saint-Germain   0123M  0280K  \n",
       "3         FC Barcelona    097M  0510K  \n",
       "4     FC Bayern Munich    061M  0230K  "
      ]
     },
     "execution_count": 21,
     "metadata": {},
     "output_type": "execute_result"
    }
   ],
   "source": [
    "x.head()"
   ]
  },
  {
   "cell_type": "code",
   "execution_count": 22,
   "metadata": {
    "collapsed": false
   },
   "outputs": [
    {
     "data": {
      "text/plain": [
       "<pandas.core.groupby.DataFrameGroupBy object at 0x000001E6275F7A58>"
      ]
     },
     "execution_count": 22,
     "metadata": {},
     "output_type": "execute_result"
    }
   ],
   "source": [
    "team=x.groupby(['Nationality','Overall'])\n",
    "team"
   ]
  },
  {
   "cell_type": "code",
   "execution_count": 23,
   "metadata": {
    "collapsed": true
   },
   "outputs": [],
   "source": [
    "Nat=[]\n",
    "Ovr=[]\n",
    "i=0\n",
    "for i in range(i,100,1):\n",
    "    Nat.append(x.Nationality[i])"
   ]
  },
  {
   "cell_type": "code",
   "execution_count": 24,
   "metadata": {
    "collapsed": false
   },
   "outputs": [],
   "source": [
    "list1=['Wales','Ivory Coast','Bosnia Herzegovina']\n",
    "Nat.remove('Ivory Coast')"
   ]
  },
  {
   "cell_type": "code",
   "execution_count": 25,
   "metadata": {
    "collapsed": false
   },
   "outputs": [
    {
     "name": "stdout",
     "output_type": "stream",
     "text": [
      "['Portugal', 'Argentina', 'Brazil', 'Uruguay', 'Germany', 'Poland', 'Spain', 'Belgium', 'Germany', 'Argentina', 'Spain', 'Belgium', 'Belgium', 'Chile', 'Croatia', 'Wales', 'Argentina', 'Italy', 'Italy', 'Argentina', 'Slovenia', 'France', 'Spain', 'Gabon', 'Italy', 'Germany', 'Uruguay', 'Germany', 'Germany', 'France', 'Brazil', 'Sweden', 'Netherlands', 'France', 'Italy', 'France', 'Denmark', 'Chile', 'Uruguay', 'Brazil', 'Slovakia', 'Croatia', 'Spain', 'Slovenia', 'Spain', 'Spain', 'England', 'Colombia', 'Spain', 'Austria', 'Belgium', 'Brazil', 'Germany', 'Spain', 'Brazil', 'Germany', 'Belgium', 'Brazil', 'Spain', 'Belgium', 'Spain', 'Belgium', 'Greece', 'Brazil', 'France', 'Spain', 'France', 'Portugal', 'Czech Republic', 'Belgium', 'France', 'Brazil', 'Italy', 'France', 'Costa Rica', 'Armenia', 'Croatia', 'Germany', 'Germany', 'Poland', 'Spain', 'Germany', 'Spain', 'Argentina', 'Bosnia Herzegovina', 'Italy', 'Belgium', 'France', 'France', 'Brazil', 'Belgium', 'Italy', 'Spain', 'Portugal', 'France', 'England', 'Senegal', 'Spain', 'Germany']\n"
     ]
    }
   ],
   "source": [
    "print(Nat)"
   ]
  },
  {
   "cell_type": "code",
   "execution_count": 26,
   "metadata": {
    "collapsed": false
   },
   "outputs": [
    {
     "data": {
      "text/plain": [
       "1"
      ]
     },
     "execution_count": 26,
     "metadata": {},
     "output_type": "execute_result"
    }
   ],
   "source": [
    "b=0\n",
    "i=0\n",
    "for i in range(i,79,1):\n",
    "    if Nat[i]=='England':\n",
    "        b+=1\n",
    "b"
   ]
  },
  {
   "cell_type": "code",
   "execution_count": 27,
   "metadata": {
    "collapsed": false
   },
   "outputs": [],
   "source": [
    "Nat.remove('Wales')\n",
    "Nat.remove('Bosnia Herzegovina')\n",
    "Nat.remove('Senegal')\n",
    "Nat.remove('Poland')\n",
    "Nat.remove('Croatia')\n",
    "Nat.remove('Armenia')\n",
    "Nat.remove('Costa Rica')"
   ]
  },
  {
   "cell_type": "code",
   "execution_count": 28,
   "metadata": {
    "collapsed": true
   },
   "outputs": [],
   "source": [
    "b=0\n",
    "i=0\n",
    "for i in range(i,70,1):\n",
    "    if Nat[i]=='Austria':\n",
    "        Nat.remove('Austria')\n"
   ]
  },
  {
   "cell_type": "code",
   "execution_count": 29,
   "metadata": {
    "collapsed": false
   },
   "outputs": [
    {
     "name": "stdout",
     "output_type": "stream",
     "text": [
      "91 ['Portugal', 'Argentina', 'Brazil', 'Uruguay', 'Germany', 'Spain', 'Belgium', 'Germany', 'Argentina', 'Spain', 'Belgium', 'Belgium', 'Chile', 'Argentina', 'Italy', 'Italy', 'Argentina', 'Slovenia', 'France', 'Spain', 'Gabon', 'Italy', 'Germany', 'Uruguay', 'Germany', 'Germany', 'France', 'Brazil', 'Sweden', 'Netherlands', 'France', 'Italy', 'France', 'Denmark', 'Chile', 'Uruguay', 'Brazil', 'Slovakia', 'Croatia', 'Spain', 'Slovenia', 'Spain', 'Spain', 'England', 'Colombia', 'Spain', 'Belgium', 'Brazil', 'Germany', 'Spain', 'Brazil', 'Germany', 'Belgium', 'Brazil', 'Spain', 'Belgium', 'Spain', 'Belgium', 'Greece', 'Brazil', 'France', 'Spain', 'France', 'Portugal', 'Czech Republic', 'Belgium', 'France', 'Brazil', 'Italy', 'France', 'Croatia', 'Germany', 'Germany', 'Poland', 'Spain', 'Germany', 'Spain', 'Argentina', 'Italy', 'Belgium', 'France', 'France', 'Brazil', 'Belgium', 'Italy', 'Spain', 'Portugal', 'France', 'England', 'Spain', 'Germany']\n"
     ]
    }
   ],
   "source": [
    "print(len(Nat),Nat)"
   ]
  },
  {
   "cell_type": "raw",
   "metadata": {},
   "source": [
    "import matplotlib.pyplot as plt\n",
    "import matplotlib.pyplot as plt\n",
    "f,ax = plt.subplots(figsize=(20,5))\n",
    "plt.xlabel('Nat') \n",
    "plt.ylabel(\"Ovr\")\n",
    "plt.bar(Nat,Ovr)\n",
    "plt.show()"
   ]
  },
  {
   "cell_type": "code",
   "execution_count": 30,
   "metadata": {
    "collapsed": false
   },
   "outputs": [
    {
     "data": {
      "text/html": [
       "<div>\n",
       "<table border=\"1\" class=\"dataframe\">\n",
       "  <thead>\n",
       "    <tr style=\"text-align: right;\">\n",
       "      <th></th>\n",
       "      <th>Age</th>\n",
       "      <th>Overall</th>\n",
       "      <th>Potential</th>\n",
       "    </tr>\n",
       "  </thead>\n",
       "  <tbody>\n",
       "    <tr>\n",
       "      <th>count</th>\n",
       "      <td>17981.000000</td>\n",
       "      <td>17981.000000</td>\n",
       "      <td>17981.000000</td>\n",
       "    </tr>\n",
       "    <tr>\n",
       "      <th>mean</th>\n",
       "      <td>25.144541</td>\n",
       "      <td>66.247984</td>\n",
       "      <td>71.190813</td>\n",
       "    </tr>\n",
       "    <tr>\n",
       "      <th>std</th>\n",
       "      <td>4.614272</td>\n",
       "      <td>6.987965</td>\n",
       "      <td>6.102199</td>\n",
       "    </tr>\n",
       "    <tr>\n",
       "      <th>min</th>\n",
       "      <td>16.000000</td>\n",
       "      <td>46.000000</td>\n",
       "      <td>46.000000</td>\n",
       "    </tr>\n",
       "    <tr>\n",
       "      <th>25%</th>\n",
       "      <td>21.000000</td>\n",
       "      <td>62.000000</td>\n",
       "      <td>67.000000</td>\n",
       "    </tr>\n",
       "    <tr>\n",
       "      <th>50%</th>\n",
       "      <td>25.000000</td>\n",
       "      <td>66.000000</td>\n",
       "      <td>71.000000</td>\n",
       "    </tr>\n",
       "    <tr>\n",
       "      <th>75%</th>\n",
       "      <td>28.000000</td>\n",
       "      <td>71.000000</td>\n",
       "      <td>75.000000</td>\n",
       "    </tr>\n",
       "    <tr>\n",
       "      <th>max</th>\n",
       "      <td>47.000000</td>\n",
       "      <td>94.000000</td>\n",
       "      <td>94.000000</td>\n",
       "    </tr>\n",
       "  </tbody>\n",
       "</table>\n",
       "</div>"
      ],
      "text/plain": [
       "                Age       Overall     Potential\n",
       "count  17981.000000  17981.000000  17981.000000\n",
       "mean      25.144541     66.247984     71.190813\n",
       "std        4.614272      6.987965      6.102199\n",
       "min       16.000000     46.000000     46.000000\n",
       "25%       21.000000     62.000000     67.000000\n",
       "50%       25.000000     66.000000     71.000000\n",
       "75%       28.000000     71.000000     75.000000\n",
       "max       47.000000     94.000000     94.000000"
      ]
     },
     "execution_count": 30,
     "metadata": {},
     "output_type": "execute_result"
    }
   ],
   "source": [
    "x.describe()"
   ]
  },
  {
   "cell_type": "code",
   "execution_count": 36,
   "metadata": {
    "collapsed": false
   },
   "outputs": [
    {
     "data": {
      "text/plain": [
       "<matplotlib.axes._subplots.AxesSubplot at 0x1e62ca90c50>"
      ]
     },
     "execution_count": 36,
     "metadata": {},
     "output_type": "execute_result"
    },
    {
     "data": {
      "image/png": "[encoded data removed]",
      "text/plain": [
       "<matplotlib.figure.Figure at 0x1e62cac3470>"
      ]
     },
     "metadata": {},
     "output_type": "display_data"
    }
   ],
   "source": [
    "%matplotlib inline\n",
    "import seaborn as sns\n",
    "import matplotlib.pyplot as plt\n",
    "sns.set(rc={'figure.figsize':(25,15)})\n",
    "sns.set(style=\"darkgrid\")\n",
    "sns.countplot(Nat,label='Players',palette='Set1')\n"
   ]
  },
  {
   "cell_type": "code",
   "execution_count": null,
   "metadata": {
    "collapsed": true
   },
   "outputs": [],
   "source": []
  }
 ],
 "metadata": {
  "kernelspec": {
   "display_name": "Python [default]",
   "language": "python",
   "name": "python3"
  },
  "language_info": {
   "codemirror_mode": {
    "name": "ipython",
    "version": 3
   },
   "file_extension": ".py",
   "mimetype": "text/x-python",
   "name": "python",
   "nbconvert_exporter": "python",
   "pygments_lexer": "ipython3",
   "version": "3.5.4"
  }
 },
 "nbformat": 4,
 "nbformat_minor": 2
}
